{
 "cells": [
  {
   "cell_type": "code",
   "execution_count": 1,
   "id": "sitting-current",
   "metadata": {},
   "outputs": [],
   "source": [
    "import pandas as pd\n",
    "import seaborn as sns\n",
    "import numpy as np\n",
    "data = pd.read_csv(\"data.csv\")"
   ]
  },
  {
   "cell_type": "markdown",
   "id": "published-representation",
   "metadata": {},
   "source": [
    "## Question 1\n",
    "### a)\n",
    "Looking briefly at the data, we can see a column total_items, which seems to indicate the total number of purchases made for a given order. If we have multiple items in an order, it makes sense then that the naively calculated average be much higher than the average item price. We double check this assumption below."
   ]
  },
  {
   "cell_type": "code",
   "execution_count": 2,
   "id": "unexpected-luther",
   "metadata": {},
   "outputs": [
    {
     "data": {
      "text/html": [
       "<div>\n",
       "<style scoped>\n",
       "    .dataframe tbody tr th:only-of-type {\n",
       "        vertical-align: middle;\n",
       "    }\n",
       "\n",
       "    .dataframe tbody tr th {\n",
       "        vertical-align: top;\n",
       "    }\n",
       "\n",
       "    .dataframe thead th {\n",
       "        text-align: right;\n",
       "    }\n",
       "</style>\n",
       "<table border=\"1\" class=\"dataframe\">\n",
       "  <thead>\n",
       "    <tr style=\"text-align: right;\">\n",
       "      <th></th>\n",
       "      <th>order_amount</th>\n",
       "      <th>total_items</th>\n",
       "    </tr>\n",
       "  </thead>\n",
       "  <tbody>\n",
       "    <tr>\n",
       "      <th>count</th>\n",
       "      <td>5000.000000</td>\n",
       "      <td>5000.00000</td>\n",
       "    </tr>\n",
       "    <tr>\n",
       "      <th>mean</th>\n",
       "      <td>3145.128000</td>\n",
       "      <td>8.78720</td>\n",
       "    </tr>\n",
       "    <tr>\n",
       "      <th>std</th>\n",
       "      <td>41282.539349</td>\n",
       "      <td>116.32032</td>\n",
       "    </tr>\n",
       "    <tr>\n",
       "      <th>min</th>\n",
       "      <td>90.000000</td>\n",
       "      <td>1.00000</td>\n",
       "    </tr>\n",
       "    <tr>\n",
       "      <th>25%</th>\n",
       "      <td>163.000000</td>\n",
       "      <td>1.00000</td>\n",
       "    </tr>\n",
       "    <tr>\n",
       "      <th>50%</th>\n",
       "      <td>284.000000</td>\n",
       "      <td>2.00000</td>\n",
       "    </tr>\n",
       "    <tr>\n",
       "      <th>75%</th>\n",
       "      <td>390.000000</td>\n",
       "      <td>3.00000</td>\n",
       "    </tr>\n",
       "    <tr>\n",
       "      <th>max</th>\n",
       "      <td>704000.000000</td>\n",
       "      <td>2000.00000</td>\n",
       "    </tr>\n",
       "  </tbody>\n",
       "</table>\n",
       "</div>"
      ],
      "text/plain": [
       "        order_amount  total_items\n",
       "count    5000.000000   5000.00000\n",
       "mean     3145.128000      8.78720\n",
       "std     41282.539349    116.32032\n",
       "min        90.000000      1.00000\n",
       "25%       163.000000      1.00000\n",
       "50%       284.000000      2.00000\n",
       "75%       390.000000      3.00000\n",
       "max    704000.000000   2000.00000"
      ]
     },
     "execution_count": 2,
     "metadata": {},
     "output_type": "execute_result"
    }
   ],
   "source": [
    "data[[\"order_amount\", \"total_items\"]].describe()"
   ]
  },
  {
   "cell_type": "markdown",
   "id": "republican-simulation",
   "metadata": {},
   "source": [
    "As indicated above, the mentioned amount of $3145.13 is the simple mean of the order_amount column, and we can see that there are often more than one items in a given order. We also note the very large variance in the data in both order_amount and total_items. To deal with this, we have a few options to better evaluate the data: 1) use the median instead of the mean, 2) finding the average price of an item instead of an order 3) calculate the AOV with outliers removed.\n",
    "\n",
    "##### Median Order Value\n",
    "The median is better suited to this dataset given its large variance. As we can see below, it's a much more reasonable number. "
   ]
  },
  {
   "cell_type": "code",
   "execution_count": 3,
   "id": "yellow-relevance",
   "metadata": {},
   "outputs": [
    {
     "data": {
      "text/plain": [
       "284.0"
      ]
     },
     "execution_count": 3,
     "metadata": {},
     "output_type": "execute_result"
    }
   ],
   "source": [
    "data[\"order_amount\"].median()"
   ]
  },
  {
   "cell_type": "markdown",
   "id": "super-fossil",
   "metadata": {},
   "source": [
    "##### Average Item Price\n",
    "We calculate the average price of each item sold to be $357.92. Note that this measures something slightly different than the AOV. This is the average price of an item that sold from one of the 100 stores, while AOV is the average amount a customer spends at the 100 stores. "
   ]
  },
  {
   "cell_type": "code",
   "execution_count": 4,
   "id": "electric-guyana",
   "metadata": {},
   "outputs": [
    {
     "data": {
      "text/plain": [
       "357.92152221412965"
      ]
     },
     "execution_count": 4,
     "metadata": {},
     "output_type": "execute_result"
    }
   ],
   "source": [
    "data[\"order_amount\"].mean() / data[\"total_items\"].mean()"
   ]
  },
  {
   "cell_type": "markdown",
   "id": "automated-california",
   "metadata": {},
   "source": [
    "##### Removing Outliers\n",
    "Seeing the histogram below, we can see that there is one store selling its item for a huge price. We can also see that while the majority of orders are for a reasonable number of items, there are 17 which are ordering 2000 items. If we remove those from our set we can calculate AOV using a mean and attain a more reasonable result."
   ]
  },
  {
   "cell_type": "code",
   "execution_count": 5,
   "id": "outer-radio",
   "metadata": {
    "scrolled": true
   },
   "outputs": [
    {
     "data": {
      "text/plain": [
       "<AxesSubplot:xlabel='shop_id', ylabel='item_amount'>"
      ]
     },
     "execution_count": 5,
     "metadata": {},
     "output_type": "execute_result"
    },
    {
     "data": {
      "image/png": "[encoded data removed]",
      "text/plain": [
       "<Figure size 432x288 with 1 Axes>"
      ]
     },
     "metadata": {
      "needs_background": "light"
     },
     "output_type": "display_data"
    }
   ],
   "source": [
    "data[\"item_amount\"] = data[\"order_amount\"] / data[\"total_items\"]\n",
    "data.plot.scatter(x=\"shop_id\", y=\"item_amount\")"
   ]
  },
  {
   "cell_type": "code",
   "execution_count": 6,
   "id": "mental-investment",
   "metadata": {},
   "outputs": [
    {
     "data": {
      "text/plain": [
       "2       1832\n",
       "1       1830\n",
       "3        941\n",
       "4        293\n",
       "5         77\n",
       "2000      17\n",
       "6          9\n",
       "8          1\n",
       "Name: total_items, dtype: int64"
      ]
     },
     "execution_count": 6,
     "metadata": {},
     "output_type": "execute_result"
    }
   ],
   "source": [
    "data[\"total_items\"].value_counts()"
   ]
  },
  {
   "cell_type": "code",
   "execution_count": 7,
   "id": "optical-people",
   "metadata": {},
   "outputs": [
    {
     "data": {
      "text/plain": [
       "count    4937.000000\n",
       "mean      302.580514\n",
       "std       160.804912\n",
       "min        90.000000\n",
       "25%       163.000000\n",
       "50%       284.000000\n",
       "75%       387.000000\n",
       "max      1760.000000\n",
       "Name: order_amount, dtype: float64"
      ]
     },
     "execution_count": 7,
     "metadata": {},
     "output_type": "execute_result"
    }
   ],
   "source": [
    "orders_no_outliers = data[(data[\"shop_id\"] != 78) & (data[\"total_items\"] < 10)][\"order_amount\"]\n",
    "orders_no_outliers.describe()"
   ]
  },
  {
   "cell_type": "markdown",
   "id": "developing-default",
   "metadata": {},
   "source": [
    "### b) & c)\n",
    "I think the purpose of analyzing a metric like AOV is to be able to predict how the average, random consumer behaves in the shopify stores. It is unlikely that the average consumer orders 2000 shoes, or purchases shoes valued at $25k+. I would guess that these are either data errors, or represent things like wholesalers or a niche market. As such, I think it's appropriate to remove these outliers and analyze the remaining data. As shown above, the variance is at a much more reasonable level now, so we can use the mean. And we can see that the calculated AOV is closer to an expected value at around 302."
   ]
  },
  {
   "cell_type": "code",
   "execution_count": 8,
   "id": "grand-johns",
   "metadata": {},
   "outputs": [
    {
     "data": {
      "text/plain": [
       "302.58051448247926"
      ]
     },
     "execution_count": 8,
     "metadata": {},
     "output_type": "execute_result"
    }
   ],
   "source": [
    "orders_no_outliers.mean()"
   ]
  },
  {
   "cell_type": "markdown",
   "id": "controlling-threat",
   "metadata": {},
   "source": [
    "## Question 2\n",
    "\n",
    "### a)\n",
    "How many orders were shipped by Speedy Express in total?\n",
    "```\n",
    "SELECT COUNT(*) \n",
    "FROM Orders \n",
    "WHERE ShipperID = \n",
    "\t(SELECT ShipperID \n",
    "    FROM Shippers \n",
    "    WHERE ShipperName = \"Speedy Express\");\n",
    "\n",
    "54\n",
    "```\n",
    "### b)\n",
    "What is the last name of the employee with the most orders?\n",
    "```\n",
    "SELECT LastName \n",
    "FROM Employees \n",
    "WHERE EmployeeID = \n",
    "    (SELECT EmployeeID\n",
    "    FROM \n",
    "        (SELECT EmployeeID, COUNT(*) as OrderCount\n",
    "         FROM ORDERS\n",
    "         GROUP BY EmployeeID)\n",
    "    WHERE OrderCount = (SELECT Max(OrderCount)\n",
    "                        FROM \n",
    "                          (SELECT EmployeeID, COUNT(*) as OrderCount\n",
    "                          FROM ORDERS\n",
    "                          GROUP BY EmployeeID)));\n",
    "                          \n",
    "Peacock\n",
    "```\n",
    "### c)\n",
    "What product was ordered the most by customers in Germany?\n",
    "```\n",
    "SELECT ProductName\n",
    "FROM Products a\n",
    "LEFT JOIN \n",
    "(SELECT ProductID, COUNT(*) as ProdCount\n",
    "FROM OrderDetails \n",
    "WHERE OrderID IN\n",
    "\t(SELECT OrderID \n",
    "\tFROM Orders\n",
    "\tWHERE CustomerID IN\n",
    "    \t(SELECT CustomerID FROM Customers\n",
    "\t\tWHERE Country = 'Germany'))\n",
    "GROUP BY ProductID) b\n",
    "ON a.ProductID = b.ProductID\n",
    "WHERE b.ProdCount = \n",
    "\t(SELECT MAX(ProdCount)\n",
    "    FROM \n",
    "    \t(SELECT ProductID, COUNT(*) as ProdCount\n",
    "        FROM OrderDetails \n",
    "        WHERE OrderID IN\n",
    "            (SELECT OrderID \n",
    "            FROM Orders\n",
    "            WHERE CustomerID IN\n",
    "                (SELECT CustomerID FROM Customers\n",
    "                WHERE Country = 'Germany'))\n",
    "        GROUP BY ProductID))\n",
    "\n",
    "Gorgonzola Telino\n",
    "    \n",
    "```"
   ]
  }
 ],
 "metadata": {
  "kernelspec": {
   "display_name": "Python 3",
   "language": "python",
   "name": "python3"
  },
  "language_info": {
   "codemirror_mode": {
    "name": "ipython",
    "version": 3
   },
   "file_extension": ".py",
   "mimetype": "text/x-python",
   "name": "python",
   "nbconvert_exporter": "python",
   "pygments_lexer": "ipython3",
   "version": "3.9.1"
  }
 },
 "nbformat": 4,
 "nbformat_minor": 5
}
